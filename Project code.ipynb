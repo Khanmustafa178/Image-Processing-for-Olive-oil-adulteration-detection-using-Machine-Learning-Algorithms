{
 "cells": [
  {
   "cell_type": "code",
   "execution_count": 1,
   "id": "ad01893d",
   "metadata": {},
   "outputs": [],
   "source": [
    "# Importing necessary packages\n",
    "import os\n",
    "#import cv2\n",
    "import numpy as np\n",
    "import pandas as pd\n",
    "%matplotlib inline\n",
    "import matplotlib.pyplot as plt\n",
    "import seaborn as sns"
   ]
  },
  {
   "cell_type": "code",
   "execution_count": 2,
   "id": "f2995d89",
   "metadata": {},
   "outputs": [],
   "source": [
    "from tensorflow import keras\n",
    "import matplotlib.pyplot as plt\n",
    "from sklearn.metrics import accuracy_score,confusion_matrix,classification_report\n",
    "import numpy as np"
   ]
  },
  {
   "cell_type": "code",
   "execution_count": 3,
   "id": "80ed71e7",
   "metadata": {},
   "outputs": [],
   "source": [
    "import cv2"
   ]
  },
  {
   "cell_type": "code",
   "execution_count": 4,
   "id": "f70fc1ae",
   "metadata": {},
   "outputs": [],
   "source": [
    "import keras\n",
    "from keras import regularizers\n",
    "from keras.optimizers import *\n",
    "from keras.models import Sequential\n",
    "from keras.layers import Dense, Dropout, Flatten\n",
    "from tensorflow.keras.layers import BatchNormalization\n",
    "from keras.layers import Conv2D, MaxPooling2D, MaxPooling2D\n",
    "from keras.preprocessing.image import ImageDataGenerator\n",
    "from keras.callbacks import ModelCheckpoint, TensorBoard\n",
    "import warnings\n",
    "warnings.filterwarnings('ignore')\n",
    "import itertools\n",
    "from sklearn.utils import resample\n",
    "from sklearn.model_selection import train_test_split\n",
    "from sklearn.metrics import accuracy_score, confusion_matrix"
   ]
  },
  {
   "cell_type": "code",
   "execution_count": 5,
   "id": "7bdee923",
   "metadata": {},
   "outputs": [],
   "source": [
    "import keras.utils\n",
    "from keras.utils import to_categorical"
   ]
  },
  {
   "cell_type": "code",
   "execution_count": 6,
   "id": "f7bb8f87",
   "metadata": {},
   "outputs": [
    {
     "data": {
      "image/png": "[encoded data removed]",
      "text/plain": [
       "<Figure size 640x480 with 1 Axes>"
      ]
     },
     "metadata": {},
     "output_type": "display_data"
    }
   ],
   "source": [
    "# Reading folders where each folder corresponds to each sample\n",
    "dataset = 'C:/Users/HPCL-08/Desktop/old data/dataset/'\n",
    "folders = os.listdir(dataset)\n",
    "folders.sort()\n",
    "# Count no.of images w.r.t each sample\n",
    "img_count = {}\n",
    "for folder in folders:\n",
    "    cnt = len(os.listdir(dataset+folder+os.sep))\n",
    "    img_count[folder] = cnt\n",
    "# Plotting barplots of no.of leaf images w.r.t each sample\n",
    "plt.bar(img_count.keys(), img_count.values())\n",
    "plt.xticks(rotation='vertical')\n",
    "plt.show()"
   ]
  },
  {
   "cell_type": "code",
   "execution_count": 7,
   "id": "4b0509d2",
   "metadata": {},
   "outputs": [],
   "source": [
    "path = 'C:/Users/HPCL-08/Desktop/old data/'\n",
    "dataset = 'C:/Users/HPCL-08/Desktop/old data/dataset/'\n",
    "folders = os.listdir(dataset)\n",
    "folders.sort()\n",
    "# Storing image data in csv file\n",
    "img_names = []\n",
    "img_array = []\n",
    "labels = []\n",
    "for folder in folders:\n",
    "    imgs = os.listdir(dataset+folder+os.sep)\n",
    "    imgs.sort()\n",
    "    for img in imgs:\n",
    "        im = cv2.imread(dataset+folder+os.sep+img)\n",
    "        im_rgb = cv2.cvtColor(im, cv2.COLOR_BGR2RGB)\n",
    "        im_size = cv2.resize(im_rgb, (144, 144), interpolation=cv2.INTER_AREA)\n",
    "        img_names.append(img)\n",
    "        img_array.append(im_size)\n",
    "        labels.append(folder)\n",
    "df = pd.DataFrame({'Image ID': img_names, 'Class': labels})\n",
    "df.to_csv(path+'New folder/sample.csv', index=False)\n",
    "# Saving image data in numpy array format\n",
    "X = np.asarray(img_array)\n",
    "np.save(path+'New folder/imgs_original', X)"
   ]
  },
  {
   "cell_type": "code",
   "execution_count": 8,
   "id": "4817d26b",
   "metadata": {},
   "outputs": [
    {
     "data": {
      "text/html": [
       "<div>\n",
       "<style scoped>\n",
       "    .dataframe tbody tr th:only-of-type {\n",
       "        vertical-align: middle;\n",
       "    }\n",
       "\n",
       "    .dataframe tbody tr th {\n",
       "        vertical-align: top;\n",
       "    }\n",
       "\n",
       "    .dataframe thead th {\n",
       "        text-align: right;\n",
       "    }\n",
       "</style>\n",
       "<table border=\"1\" class=\"dataframe\">\n",
       "  <thead>\n",
       "    <tr style=\"text-align: right;\">\n",
       "      <th></th>\n",
       "      <th>Image ID</th>\n",
       "      <th>Class</th>\n",
       "    </tr>\n",
       "  </thead>\n",
       "  <tbody>\n",
       "    <tr>\n",
       "      <th>0</th>\n",
       "      <td>IMG_20221020_114348.jpg</td>\n",
       "      <td>10% soya oil</td>\n",
       "    </tr>\n",
       "    <tr>\n",
       "      <th>1</th>\n",
       "      <td>IMG_20221020_114351.jpg</td>\n",
       "      <td>10% soya oil</td>\n",
       "    </tr>\n",
       "    <tr>\n",
       "      <th>2</th>\n",
       "      <td>IMG_20221020_114352.jpg</td>\n",
       "      <td>10% soya oil</td>\n",
       "    </tr>\n",
       "    <tr>\n",
       "      <th>3</th>\n",
       "      <td>IMG_20221020_114353.jpg</td>\n",
       "      <td>10% soya oil</td>\n",
       "    </tr>\n",
       "    <tr>\n",
       "      <th>4</th>\n",
       "      <td>IMG_20221020_114354.jpg</td>\n",
       "      <td>10% soya oil</td>\n",
       "    </tr>\n",
       "  </tbody>\n",
       "</table>\n",
       "</div>"
      ],
      "text/plain": [
       "                  Image ID         Class\n",
       "0  IMG_20221020_114348.jpg  10% soya oil\n",
       "1  IMG_20221020_114351.jpg  10% soya oil\n",
       "2  IMG_20221020_114352.jpg  10% soya oil\n",
       "3  IMG_20221020_114353.jpg  10% soya oil\n",
       "4  IMG_20221020_114354.jpg  10% soya oil"
      ]
     },
     "execution_count": 8,
     "metadata": {},
     "output_type": "execute_result"
    }
   ],
   "source": [
    "data = pd.read_csv(path+'New folder/sample.csv')\n",
    "data.head()"
   ]
  },
  {
   "cell_type": "code",
   "execution_count": 9,
   "id": "2fc47d95",
   "metadata": {},
   "outputs": [
    {
     "data": {
      "text/html": [
       "<div>\n",
       "<style scoped>\n",
       "    .dataframe tbody tr th:only-of-type {\n",
       "        vertical-align: middle;\n",
       "    }\n",
       "\n",
       "    .dataframe tbody tr th {\n",
       "        vertical-align: top;\n",
       "    }\n",
       "\n",
       "    .dataframe thead th {\n",
       "        text-align: right;\n",
       "    }\n",
       "</style>\n",
       "<table border=\"1\" class=\"dataframe\">\n",
       "  <thead>\n",
       "    <tr style=\"text-align: right;\">\n",
       "      <th></th>\n",
       "      <th>Image ID</th>\n",
       "      <th>Class</th>\n",
       "      <th>Image Array</th>\n",
       "      <th>Labels</th>\n",
       "    </tr>\n",
       "  </thead>\n",
       "  <tbody>\n",
       "    <tr>\n",
       "      <th>0</th>\n",
       "      <td>IMG_20221020_114348.jpg</td>\n",
       "      <td>10% soya oil</td>\n",
       "      <td>[[[211, 211, 202], [219, 219, 216], [220, 219,...</td>\n",
       "      <td>0</td>\n",
       "    </tr>\n",
       "    <tr>\n",
       "      <th>1</th>\n",
       "      <td>IMG_20221020_114351.jpg</td>\n",
       "      <td>10% soya oil</td>\n",
       "      <td>[[[216, 216, 218], [217, 217, 219], [218, 218,...</td>\n",
       "      <td>0</td>\n",
       "    </tr>\n",
       "    <tr>\n",
       "      <th>2</th>\n",
       "      <td>IMG_20221020_114352.jpg</td>\n",
       "      <td>10% soya oil</td>\n",
       "      <td>[[[218, 216, 217], [217, 216, 217], [217, 216,...</td>\n",
       "      <td>0</td>\n",
       "    </tr>\n",
       "    <tr>\n",
       "      <th>3</th>\n",
       "      <td>IMG_20221020_114353.jpg</td>\n",
       "      <td>10% soya oil</td>\n",
       "      <td>[[[212, 211, 207], [218, 217, 218], [218, 217,...</td>\n",
       "      <td>0</td>\n",
       "    </tr>\n",
       "    <tr>\n",
       "      <th>4</th>\n",
       "      <td>IMG_20221020_114354.jpg</td>\n",
       "      <td>10% soya oil</td>\n",
       "      <td>[[[213, 214, 211], [217, 217, 219], [217, 217,...</td>\n",
       "      <td>0</td>\n",
       "    </tr>\n",
       "  </tbody>\n",
       "</table>\n",
       "</div>"
      ],
      "text/plain": [
       "                  Image ID         Class  \\\n",
       "0  IMG_20221020_114348.jpg  10% soya oil   \n",
       "1  IMG_20221020_114351.jpg  10% soya oil   \n",
       "2  IMG_20221020_114352.jpg  10% soya oil   \n",
       "3  IMG_20221020_114353.jpg  10% soya oil   \n",
       "4  IMG_20221020_114354.jpg  10% soya oil   \n",
       "\n",
       "                                         Image Array  Labels  \n",
       "0  [[[211, 211, 202], [219, 219, 216], [220, 219,...       0  \n",
       "1  [[[216, 216, 218], [217, 217, 219], [218, 218,...       0  \n",
       "2  [[[218, 216, 217], [217, 216, 217], [217, 216,...       0  \n",
       "3  [[[212, 211, 207], [218, 217, 218], [218, 217,...       0  \n",
       "4  [[[213, 214, 211], [217, 217, 219], [217, 217,...       0  "
      ]
     },
     "execution_count": 9,
     "metadata": {},
     "output_type": "execute_result"
    }
   ],
   "source": [
    "# Mapping original class labels to integer values\n",
    "\n",
    "labels = {}\n",
    "val_cnt = 0\n",
    "for folder in folders:\n",
    "    labels[folder] = val_cnt\n",
    "    val_cnt = val_cnt+1\n",
    "X = np.load(path+'New folder/imgs_original.npy')\n",
    "y = data['Class'].map(labels).values\n",
    "data['Image Array'] = X.tolist()\n",
    "data['Labels'] = y\n",
    "data.head()"
   ]
  },
  {
   "cell_type": "code",
   "execution_count": 10,
   "id": "cd9fa212",
   "metadata": {},
   "outputs": [],
   "source": [
    "data.to_csv('C:/Users/HPCL-08/Desktop/final data/New folder/image_new.csv', index=False)"
   ]
  },
  {
   "cell_type": "code",
   "execution_count": 32,
   "id": "5270dd44",
   "metadata": {},
   "outputs": [
    {
     "data": {
      "text/plain": [
       "1    62\n",
       "4    59\n",
       "2    53\n",
       "3    47\n",
       "0    43\n",
       "5    41\n",
       "6    40\n",
       "7    23\n",
       "8    22\n",
       "Name: Labels, dtype: int64"
      ]
     },
     "execution_count": 32,
     "metadata": {},
     "output_type": "execute_result"
    }
   ],
   "source": [
    "X = data.drop(['Image ID', 'Class', 'Labels'], axis=1)\n",
    "y = data['Labels']\n",
    "X_tr, X_te, y_tr, y_te = train_test_split(X, y, test_size=0.25, stratify=y, random_state=0)\n",
    "imbalance_train = X_tr.copy()\n",
    "imbalance_train['Labels'] = y_tr\n",
    "imbalance_train['Labels'].value_counts()"
   ]
  },
  {
   "cell_type": "code",
   "execution_count": 33,
   "id": "a1c83f1c",
   "metadata": {},
   "outputs": [],
   "source": [
    "# Reference: upsampling in python-https://elitedatascience.com/imbalanced-classes\n",
    "majority_class = imbalance_train[imbalance_train.Labels == 1]\n",
    "# Upsampling for imbalance dataset in python\n",
    "upsampled_classes = [majority_class]\n",
    "minority_labels = [0,2,3,4,5,6,7,8]\n",
    "for i in minority_labels:\n",
    "    minority_class = imbalance_train[imbalance_train.Labels == i]\n",
    "    minority_upsampled = resample(minority_class, replace = True,     n_samples = majority_class.shape[0],random_state = 0)\n",
    "    upsampled_classes.append(minority_upsampled)\n",
    "train_upsampled = pd.concat(upsampled_classes)\n",
    "train_shuffled = train_upsampled.sample(frac=1, random_state=0)\n",
    "X_tr1 = train_shuffled['Image Array'].values\n",
    "y_tr1 = train_shuffled['Labels'].values\n",
    "y_train = keras.utils.to_categorical(y_tr1, num_classes=9)\n",
    "y_test = keras.utils.to_categorical(y_te, num_classes=9)\n",
    "train_X = X_tr1.tolist()\n",
    "X_train = np.asarray(train_X)\n",
    "X_te1 = X_te['Image Array'].values\n",
    "test_X = X_te1.tolist()\n",
    "X_test = np.asarray(test_X)"
   ]
  },
  {
   "cell_type": "code",
   "execution_count": 34,
   "id": "0ae3265f",
   "metadata": {},
   "outputs": [
    {
     "name": "stdout",
     "output_type": "stream",
     "text": [
      "(558, 144, 144, 3)\n",
      "(130, 144, 144, 3)\n",
      "(558, 9)\n",
      "(130, 9)\n"
     ]
    }
   ],
   "source": [
    "print(X_train.shape)\n",
    "print(X_test.shape)\n",
    "print(y_train.shape)\n",
    "print(y_test.shape)"
   ]
  },
  {
   "cell_type": "code",
   "execution_count": 35,
   "id": "b36aab34",
   "metadata": {},
   "outputs": [],
   "source": [
    "#sklearn expects i/p to be 2d array-model.fit(x_train,y_train)=>reshape to 2d array\n",
    "nsamples, nx, ny, nrgb = X_train.shape\n",
    "x_train2 = X_train.reshape((nsamples,nx*ny*nrgb))"
   ]
  },
  {
   "cell_type": "code",
   "execution_count": 36,
   "id": "65f3c3b9",
   "metadata": {},
   "outputs": [
    {
     "name": "stdout",
     "output_type": "stream",
     "text": [
      "(558, 62208)\n"
     ]
    }
   ],
   "source": [
    "print(x_train2.shape)"
   ]
  },
  {
   "cell_type": "code",
   "execution_count": 37,
   "id": "19a18912",
   "metadata": {},
   "outputs": [],
   "source": [
    "#so,eventually,model.predict() should also be a 2d input\n",
    "nsamples, nx, ny, nrgb = X_test.shape\n",
    "x_test2 = X_test.reshape((nsamples,nx*ny*nrgb))"
   ]
  },
  {
   "cell_type": "code",
   "execution_count": 38,
   "id": "050c77bd",
   "metadata": {},
   "outputs": [
    {
     "name": "stdout",
     "output_type": "stream",
     "text": [
      "(130, 62208)\n"
     ]
    }
   ],
   "source": [
    "print(x_test2.shape)"
   ]
  },
  {
   "cell_type": "code",
   "execution_count": 39,
   "id": "016b5960",
   "metadata": {},
   "outputs": [],
   "source": [
    "from sklearn.neighbors import KNeighborsClassifier"
   ]
  },
  {
   "cell_type": "code",
   "execution_count": 40,
   "id": "fe6eaa58",
   "metadata": {},
   "outputs": [],
   "source": [
    "knn=KNeighborsClassifier(n_neighbors=5)"
   ]
  },
  {
   "cell_type": "code",
   "execution_count": 41,
   "id": "a06c4ef0",
   "metadata": {},
   "outputs": [
    {
     "data": {
      "text/plain": [
       "KNeighborsClassifier()"
      ]
     },
     "execution_count": 41,
     "metadata": {},
     "output_type": "execute_result"
    }
   ],
   "source": [
    "knn.fit(x_train2,y_train)"
   ]
  },
  {
   "cell_type": "code",
   "execution_count": 42,
   "id": "60241a28",
   "metadata": {},
   "outputs": [
    {
     "data": {
      "text/plain": [
       "array([[0., 0., 0., ..., 0., 1., 0.],\n",
       "       [0., 0., 0., ..., 1., 0., 0.],\n",
       "       [0., 0., 0., ..., 0., 1., 0.],\n",
       "       ...,\n",
       "       [0., 0., 0., ..., 0., 0., 0.],\n",
       "       [0., 1., 0., ..., 0., 0., 0.],\n",
       "       [0., 0., 0., ..., 0., 0., 1.]], dtype=float32)"
      ]
     },
     "execution_count": 42,
     "metadata": {},
     "output_type": "execute_result"
    }
   ],
   "source": [
    "y_pred_knn=knn.predict(x_test2)\n",
    "y_pred_knn"
   ]
  },
  {
   "cell_type": "code",
   "execution_count": 43,
   "id": "04e2221d",
   "metadata": {},
   "outputs": [
    {
     "data": {
      "text/plain": [
       "0.8384615384615385"
      ]
     },
     "execution_count": 43,
     "metadata": {},
     "output_type": "execute_result"
    }
   ],
   "source": [
    "accuracy_score(y_pred_knn,y_test)"
   ]
  },
  {
   "cell_type": "code",
   "execution_count": 44,
   "id": "3de2a84b",
   "metadata": {},
   "outputs": [
    {
     "name": "stdout",
     "output_type": "stream",
     "text": [
      "              precision    recall  f1-score   support\n",
      "\n",
      "           0       0.75      0.86      0.80        14\n",
      "           1       0.90      0.86      0.88        21\n",
      "           2       0.82      0.78      0.80        18\n",
      "           3       0.92      0.73      0.81        15\n",
      "           4       0.90      0.90      0.90        20\n",
      "           5       0.87      0.93      0.90        14\n",
      "           6       0.91      0.71      0.80        14\n",
      "           7       0.70      1.00      0.82         7\n",
      "           8       0.86      0.86      0.86         7\n",
      "\n",
      "   micro avg       0.85      0.84      0.84       130\n",
      "   macro avg       0.85      0.85      0.84       130\n",
      "weighted avg       0.86      0.84      0.84       130\n",
      " samples avg       0.84      0.84      0.84       130\n",
      "\n"
     ]
    }
   ],
   "source": [
    "from sklearn.metrics import classification_report\n",
    "report= classification_report(y_test,y_pred_knn)\n",
    "print(report)"
   ]
  },
  {
   "cell_type": "code",
   "execution_count": 52,
   "id": "cd0b80db",
   "metadata": {},
   "outputs": [],
   "source": [
    "from sklearn.ensemble import RandomForestClassifier"
   ]
  },
  {
   "cell_type": "code",
   "execution_count": 53,
   "id": "5818cd93",
   "metadata": {},
   "outputs": [],
   "source": [
    "model=RandomForestClassifier()"
   ]
  },
  {
   "cell_type": "code",
   "execution_count": 54,
   "id": "787370e7",
   "metadata": {},
   "outputs": [
    {
     "data": {
      "text/plain": [
       "RandomForestClassifier()"
      ]
     },
     "execution_count": 54,
     "metadata": {},
     "output_type": "execute_result"
    }
   ],
   "source": [
    "model.fit(x_train2,y_train)"
   ]
  },
  {
   "cell_type": "code",
   "execution_count": 55,
   "id": "75d06c61",
   "metadata": {
    "scrolled": true
   },
   "outputs": [
    {
     "data": {
      "text/plain": [
       "array([[0., 0., 0., ..., 0., 1., 0.],\n",
       "       [0., 0., 0., ..., 1., 0., 0.],\n",
       "       [0., 0., 0., ..., 0., 0., 0.],\n",
       "       ...,\n",
       "       [0., 0., 0., ..., 0., 0., 0.],\n",
       "       [0., 1., 0., ..., 0., 0., 0.],\n",
       "       [0., 0., 0., ..., 0., 0., 1.]], dtype=float32)"
      ]
     },
     "execution_count": 55,
     "metadata": {},
     "output_type": "execute_result"
    }
   ],
   "source": [
    "y_pred=model.predict(x_test2)\n",
    "y_pred"
   ]
  },
  {
   "cell_type": "code",
   "execution_count": 56,
   "id": "9f18e92e",
   "metadata": {},
   "outputs": [
    {
     "data": {
      "text/plain": [
       "0.9076923076923077"
      ]
     },
     "execution_count": 56,
     "metadata": {},
     "output_type": "execute_result"
    }
   ],
   "source": [
    "accuracy_score(y_pred,y_test)"
   ]
  },
  {
   "cell_type": "code",
   "execution_count": 57,
   "id": "1e5c18d2",
   "metadata": {},
   "outputs": [
    {
     "data": {
      "text/plain": [
       "array([[0., 0., 0., ..., 0., 1., 0.],\n",
       "       [1., 0., 0., ..., 0., 0., 0.],\n",
       "       [0., 0., 0., ..., 0., 0., 0.],\n",
       "       ...,\n",
       "       [0., 0., 0., ..., 0., 0., 0.],\n",
       "       [0., 1., 0., ..., 0., 0., 0.],\n",
       "       [0., 0., 0., ..., 0., 0., 1.]], dtype=float32)"
      ]
     },
     "execution_count": 57,
     "metadata": {},
     "output_type": "execute_result"
    }
   ],
   "source": [
    "from sklearn.tree import DecisionTreeClassifier\n",
    "#and then instantiating it to create a DecisionTreeClassifier model:\n",
    "\n",
    "dtc=DecisionTreeClassifier()\n",
    "#inally, train it:\n",
    "\n",
    "dtc.fit(x_train2,y_train)\n",
    "#Now, predict for the test set using the fitted decision tree model:\n",
    "\n",
    "y_pred_dtc=dtc.predict(x_test2)\n",
    "y_pred_dtc"
   ]
  },
  {
   "cell_type": "code",
   "execution_count": 58,
   "id": "cb467d40",
   "metadata": {},
   "outputs": [
    {
     "data": {
      "text/plain": [
       "0.7692307692307693"
      ]
     },
     "execution_count": 58,
     "metadata": {},
     "output_type": "execute_result"
    }
   ],
   "source": [
    "accuracy_score(y_pred_dtc,y_test)"
   ]
  },
  {
   "cell_type": "code",
   "execution_count": 59,
   "id": "dee71c0f",
   "metadata": {},
   "outputs": [
    {
     "name": "stdout",
     "output_type": "stream",
     "text": [
      "              precision    recall  f1-score   support\n",
      "\n",
      "           0       0.71      0.67      0.69        15\n",
      "           1       0.81      0.94      0.87        18\n",
      "           2       0.61      0.79      0.69        14\n",
      "           3       0.87      0.76      0.81        17\n",
      "           4       0.90      0.82      0.86        22\n",
      "           5       0.64      0.69      0.67        13\n",
      "           6       0.79      0.73      0.76        15\n",
      "           7       0.86      0.75      0.80         8\n",
      "           8       0.71      0.62      0.67         8\n",
      "\n",
      "   micro avg       0.77      0.77      0.77       130\n",
      "   macro avg       0.77      0.75      0.76       130\n",
      "weighted avg       0.78      0.77      0.77       130\n",
      " samples avg       0.77      0.77      0.77       130\n",
      "\n"
     ]
    }
   ],
   "source": [
    "accuracy_score(y_pred_dtc,y_test)\n",
    "print(classification_report(y_pred_dtc,y_test))"
   ]
  },
  {
   "cell_type": "code",
   "execution_count": null,
   "id": "7e6948a4",
   "metadata": {},
   "outputs": [],
   "source": []
  },
  {
   "cell_type": "code",
   "execution_count": null,
   "id": "390e14d5",
   "metadata": {},
   "outputs": [],
   "source": []
  }
 ],
 "metadata": {
  "kernelspec": {
   "display_name": "Python 3 (ipykernel)",
   "language": "python",
   "name": "python3"
  },
  "language_info": {
   "codemirror_mode": {
    "name": "ipython",
    "version": 3
   },
   "file_extension": ".py",
   "mimetype": "text/x-python",
   "name": "python",
   "nbconvert_exporter": "python",
   "pygments_lexer": "ipython3",
   "version": "3.10.9"
  }
 },
 "nbformat": 4,
 "nbformat_minor": 5
}
